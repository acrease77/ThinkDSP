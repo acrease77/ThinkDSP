{
 "metadata": {
  "name": "",
  "signature": "sha256:b4139ec1e310e8a4154cb2114f8d2f195e7e9bbce481bdc8ae3548e57b857010"
 },
 "nbformat": 3,
 "nbformat_minor": 0,
 "worksheets": [
  {
   "cells": [
    {
     "cell_type": "markdown",
     "metadata": {},
     "source": [
      "PS04, Alexander Crease"
     ]
    },
    {
     "cell_type": "code",
     "collapsed": false,
     "input": [
      "from __future__ import print_function, division\n",
      "\n",
      "import thinkdsp\n",
      "import thinkplot\n",
      "import numpy\n",
      "import math\n",
      "import pandas\n",
      "import scipy.fftpack\n",
      "\n",
      "import autocorr\n",
      "import dct\n",
      "\n",
      "PI2 = 2 * math.pi\n",
      "\n",
      "%matplotlib inline"
     ],
     "language": "python",
     "metadata": {},
     "outputs": [],
     "prompt_number": 1
    },
    {
     "cell_type": "heading",
     "level": 2,
     "metadata": {},
     "source": [
      "Question 1"
     ]
    },
    {
     "cell_type": "markdown",
     "metadata": {},
     "source": [
      "Please finish this exercise that we started in class: One of the examples in chap07.ipynb compares two mixtures of complex sinusoids, one with offset=0 and one with offset=1.  The result is a different looking waveform, because \"rotating\" each component by the same phase offset does not shift each component by the same amount of time.\n",
      "\n",
      "Can you construct a vector of complex amplitudes that shifts all components by the same amount of time?"
     ]
    },
    {
     "cell_type": "heading",
     "level": 2,
     "metadata": {},
     "source": [
      "Question 2"
     ]
    },
    {
     "cell_type": "markdown",
     "metadata": {},
     "source": [
      "In Chapter 7 I represented the DFT as matrix multiplication, but the more common presentation is as a summation:\n",
      "\n",
      "From http://en.wikipedia.org/wiki/Discrete_Fourier_transform:\n",
      "\n",
      "X_k\\ \\stackrel{\\text{def}}{=}\\ \\sum_{n=0}^{N-1} x_n \\cdot e^{-i 2 \\pi k n / N}, \\quad k\\in\\mathbb{Z}\\,\n",
      "\n",
      "Read the Wikipedia page on DFT.  Write an implementation of DFT based on this summation and compare your results to my implementation and/or numpy.fft.fft."
     ]
    },
    {
     "cell_type": "heading",
     "level": 2,
     "metadata": {},
     "source": [
      "Question 3"
     ]
    },
    {
     "cell_type": "markdown",
     "metadata": {},
     "source": [
      "In Chapter 7, I showed how we can express the DFT and inverse DFT as matrix multiplications. These operations are relatively fast, taking time proportional to N2, where N is the length of the wave array. That would be fast enough for many applications, but it turns out that there is a faster algorithm, the Fast Fourier Transform (FFT), which takes time proportional to N logN.\n",
      "\n",
      "Read about the FFT at http://en.wikipedia.org/wiki/Cooley-Tukey_FFT_algorithm, and write an implementation. Hint: I suggest you write a simple version as a recursive function; don\u2019t worry about \u201cdata reordering, bit reversal, and in-place algorithms\u201d."
     ]
    },
    {
     "cell_type": "heading",
     "level": 2,
     "metadata": {},
     "source": [
      "Question 4"
     ]
    },
    {
     "cell_type": "markdown",
     "metadata": {},
     "source": [
      " Using the timing code from PS03, compare the performance of my implementation of autocorr from Chapter 5, my fft_autocorr from Chapter 8, and numpy.correlate.  Can you tell whether NumPy is using the FFT algorithm?"
     ]
    },
    {
     "cell_type": "code",
     "collapsed": false,
     "input": [
      "def autocorr(wave):\n",
      "    \"\"\"Computes and plots the autocorrelation function.\n",
      "\n",
      "    wave: Wave\n",
      "    \"\"\"\n",
      "    lags = range(len(wave.ys)//2)\n",
      "    corrs = [serial_corr(wave, lag) for lag in lags]\n",
      "    return lags, corrs\n",
      "\n",
      "def fft_autocorr(signal):\n",
      "    N = len(signal)\n",
      "    window = signal[::-1]\n",
      "    signal = zero_pad(signal, 2*N)\n",
      "    window = zero_pad(window, 2*N)\n",
      "\n",
      "    corrs = fft_convolve(signal, window)\n",
      "    corrs = corrs[N//2: 3*N//2]\n",
      "    return corrs\n",
      "\n",
      "print('autocorr5')\n",
      "results = []\n",
      "for N in ns:\n",
      "    ts = (0.5 + numpy.arange(N)) / N\n",
      "    freqs = (0.5 + numpy.arange(N)) / 2\n",
      "    ys = noise.ys[:N]\n",
      "    result = %timeit -o autocorr(ys, freqs, ts)\n",
      "    results.append(result)\n",
      "bests1 = [result.best for result in results]\n",
      "\n",
      "print('fft_autocorr')\n",
      "results2 = []\n",
      "for N in ns:\n",
      "    ts = (0.5 + numpy.arange(N)) / N\n",
      "    freqs = (0.5 + numpy.arange(N)) / 2\n",
      "    ys = noise.ys[:N]\n",
      "    result = %timeit -o dct.analyze2(ys, freqs, ts)\n",
      "    results2.append(result)\n",
      "bests2 = [result2.best for result2 in results2]\n",
      "\n",
      "print('numpy.correlate')\n",
      "results3 = []\n",
      "for N in ns:\n",
      "    ts = (0.5 + numpy.arange(N)) / N\n",
      "    freqs = (0.5 + numpy.arange(N)) / 2\n",
      "    ys = noise.ys[:N]\n",
      "    result = %timeit -o numpy.correlate(ys)\n",
      "    results3.append(result)\n",
      "bests3 = [result3.best for result3 in results3]\n",
      "\n",
      "thinkplot.plot(ns, bests1, label= 'autocorr')\n",
      "thinkplot.plot(ns, bests2, label = 'fft_autocorr')\n",
      "thinkplot.plot(ns, bests3, label = 'numpy.correlate')\n",
      "thinkplot.config(xscale='log', yscale='log', legend = True, loc = 'upper left', xlabel = 'number of loops', ylabel = 'best run time')"
     ],
     "language": "python",
     "metadata": {},
     "outputs": []
    }
   ],
   "metadata": {}
  }
 ]
}