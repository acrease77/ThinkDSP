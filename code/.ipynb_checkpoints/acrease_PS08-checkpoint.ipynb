{
 "metadata": {
  "name": "",
  "signature": "sha256:a16b9db5f7c7a75284a5e2d1710d7fd01de5d7d5e769a5748174d53406d3de5f"
 },
 "nbformat": 3,
 "nbformat_minor": 0,
 "worksheets": [
  {
   "cells": [
    {
     "cell_type": "code",
     "collapsed": false,
     "input": [
      "from __future__ import print_function, division\n",
      "\n",
      "import thinkdsp\n",
      "import thinkplot\n",
      "import thinkstats2\n",
      "import math\n",
      "import numpy\n",
      "import scipy.signal\n",
      "import dft\n",
      "\n",
      "%precision 3\n",
      "%matplotlib inline\n",
      "\n",
      "PI2 = 2 * math.pi\n",
      "\n",
      "j = complex(0, 1)"
     ],
     "language": "python",
     "metadata": {},
     "outputs": [],
     "prompt_number": 2
    },
    {
     "cell_type": "code",
     "collapsed": false,
     "input": [
      "from __future__ import print_function\n",
      "import numpy as np\n",
      "import matplotlib.pyplot as mplib"
     ],
     "language": "python",
     "metadata": {},
     "outputs": []
    },
    {
     "cell_type": "code",
     "collapsed": false,
     "input": [
      "def RLC_circuit_plots(R,L,C):\n",
      "    w = numpy.linspace(-500, 500)\n",
      "    Hmag = 1/sqrt((-w^2)*(R^2)*(C*2)+(w^4)*(L^2)*(C*2)-2*L*C*(w^2)+1)\n",
      "    Hoff = np.arctan2(w*R*C, (1-L*C*w^2))\n",
      "    mplib\n",
      "    line1, = mplib.plot(ts, x, lw=1)\n",
      "C=10^-7\n",
      "L=10^-2\n",
      "R=400"
     ],
     "language": "python",
     "metadata": {},
     "outputs": []
    }
   ],
   "metadata": {}
  }
 ]
}