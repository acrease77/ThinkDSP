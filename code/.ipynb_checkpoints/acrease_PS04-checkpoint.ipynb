{
 "metadata": {
  "name": "",
  "signature": "sha256:9f9c1e4db711f65bccffaa5fc2a56944914477725ed3157fecf4e9b659d5d7f9"
 },
 "nbformat": 3,
 "nbformat_minor": 0,
 "worksheets": [
  {
   "cells": [
    {
     "cell_type": "markdown",
     "metadata": {},
     "source": [
      "PS04, Alexander Crease"
     ]
    },
    {
     "cell_type": "code",
     "collapsed": false,
     "input": [
      "from __future__ import print_function, division\n",
      "\n",
      "import thinkdsp\n",
      "import thinkplot\n",
      "import numpy\n",
      "import math\n",
      "import pandas\n",
      "import scipy.fftpack\n",
      "\n",
      "import autocorr\n",
      "import dct\n",
      "\n",
      "PI2 = 2 * math.pi\n",
      "\n",
      "%matplotlib inline"
     ],
     "language": "python",
     "metadata": {},
     "outputs": [],
     "prompt_number": 1
    },
    {
     "cell_type": "heading",
     "level": 2,
     "metadata": {},
     "source": [
      "Question 1"
     ]
    },
    {
     "cell_type": "markdown",
     "metadata": {},
     "source": [
      "Please finish this exercise that we started in class: One of the examples in chap07.ipynb compares two mixtures of complex sinusoids, one with offset=0 and one with offset=1.  The result is a different looking waveform, because \"rotating\" each component by the same phase offset does not shift each component by the same amount of time.\n",
      "\n",
      "Can you construct a vector of complex amplitudes that shifts all components by the same amount of time?"
     ]
    },
    {
     "cell_type": "code",
     "collapsed": false,
     "input": [],
     "language": "python",
     "metadata": {},
     "outputs": []
    }
   ],
   "metadata": {}
  }
 ]
}