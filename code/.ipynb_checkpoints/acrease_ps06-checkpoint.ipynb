{
 "metadata": {
  "name": "",
  "signature": "sha256:4beb7560ae573a76498c4be5457db7de269da9dadecad94f2281e32adc800900"
 },
 "nbformat": 3,
 "nbformat_minor": 0,
 "worksheets": [
  {
   "cells": [
    {
     "cell_type": "code",
     "collapsed": false,
     "input": [
      "from __future__ import print_function, division\n",
      "\n",
      "import thinkdsp\n",
      "import thinkplot\n",
      "import thinkstats2\n",
      "import math\n",
      "import numpy\n",
      "import scipy.signal\n",
      "import dft\n",
      "\n",
      "%precision 3\n",
      "\n",
      "\n",
      "PI2 = 2 * math.pi\n",
      "\n",
      "j = complex(0, 1)"
     ],
     "language": "python",
     "metadata": {},
     "outputs": [],
     "prompt_number": 5
    },
    {
     "cell_type": "code",
     "collapsed": false,
     "input": [
      "from __future__ import print_function\n",
      "import numpy as np\n",
      "import matplotlib.pyplot as mplib"
     ],
     "language": "python",
     "metadata": {},
     "outputs": [],
     "prompt_number": 6
    },
    {
     "cell_type": "code",
     "collapsed": false,
     "input": [
      "def square_fourier(k):\n",
      "    t = numpy.linspace(-10, 10)\n",
      "    total_wave = 0\n",
      "    for i in range(0,k):\n",
      "        wave = 0.5*numpy.sinc(math.pi*i/2)*numpy.exp(j*math.pi*i*t/2)\n",
      "        total_wave += wave\n",
      "    thinkplot.plot(t,total_wave)\n",
      "    thinkplot.config(label = False, xlim = [-10,10])"
     ],
     "language": "python",
     "metadata": {},
     "outputs": [],
     "prompt_number": 13
    },
    {
     "cell_type": "code",
     "collapsed": false,
     "input": [
      "square_fourier(5)"
     ],
     "language": "python",
     "metadata": {},
     "outputs": [],
     "prompt_number": 14
    },
    {
     "cell_type": "code",
     "collapsed": false,
     "input": [
      "square_fourier(17)"
     ],
     "language": "python",
     "metadata": {},
     "outputs": [],
     "prompt_number": 9
    },
    {
     "cell_type": "code",
     "collapsed": false,
     "input": [
      "square_fourier(257)"
     ],
     "language": "python",
     "metadata": {},
     "outputs": [],
     "prompt_number": 10
    },
    {
     "cell_type": "code",
     "collapsed": false,
     "input": [
      "def fs_triangle(ts, M=3, T=4):\n",
      "    # computes a fourier series representation of a triangle wave\n",
      "    # with M terms in the Fourier series approximation\n",
      "    # if M is odd, terms -(M-1)/2 -> (M-1)/2 are used\n",
      "    # if M is even terms -M/2 -> M/2-1 are used\n",
      "       \n",
      "    # create an array to store the signal\n",
      "    x = np.zeros(len(ts)) \n",
      "    Ycoef=np.exp(j*math.pi*M)\n",
      "\n",
      "    # if M is even\n",
      "    if np.mod(M,2) ==0:\n",
      "        for k in range(-int(M/2), int(M/2)):\n",
      "            # if n is odd compute the coefficients\n",
      "            if np.mod(k, 2)==1:\n",
      "                Coeff = -2/((np.pi)**2*(k**2))*Ycoef\n",
      "            if np.mod(k,2)==0:\n",
      "                Coeff = 0\n",
      "            if k == 0:\n",
      "                Coeff = 0.5*Ycoef\n",
      "            x = x + Coeff*np.exp(1j*2*np.pi/T*k*ts)\n",
      "            \n",
      "    # if M is odd     \n",
      "    if np.mod(M,2) == 1:\n",
      "        for k in range(-int((M-1)/2), int((M-1)/2)+1):\n",
      "           # if n is odd compute the coefficients\n",
      "            if np.mod(k, 2)==1:\n",
      "                Coeff = -2/((np.pi)**2*(k**2))*Ycoef\n",
      "            if np.mod(k,2)==0:\n",
      "                Coeff = 0\n",
      "            if k == 0:\n",
      "                Coeff = 0.5*Ycoef\n",
      "            x = x + Coeff*np.exp(1j*2*np.pi/T*k*ts)\n",
      "                       \n",
      "    return x"
     ],
     "language": "python",
     "metadata": {},
     "outputs": [],
     "prompt_number": 11
    },
    {
     "cell_type": "code",
     "collapsed": false,
     "input": [
      "# create an array of time samples from -8 to 8 and use 2048 points to represent the wave\n",
      "ts = np.linspace(-10,10,2048)\n",
      "\n",
      "x = fs_triangle(ts,M=10)\n",
      "\n",
      "mplib.plot()\n",
      "# set the axis range for the main plot\n",
      "\n",
      "\n",
      "# plot the FS representation\n",
      "line1, = mplib.plot(ts, x, lw=1)\n",
      "\n",
      "mplib.show()"
     ],
     "language": "python",
     "metadata": {},
     "outputs": [],
     "prompt_number": 12
    },
    {
     "cell_type": "code",
     "collapsed": false,
     "input": [],
     "language": "python",
     "metadata": {},
     "outputs": [],
     "prompt_number": 34
    },
    {
     "cell_type": "code",
     "collapsed": false,
     "input": [],
     "language": "python",
     "metadata": {},
     "outputs": []
    }
   ],
   "metadata": {}
  }
 ]
}