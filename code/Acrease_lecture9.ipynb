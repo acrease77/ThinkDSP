{
 "metadata": {
  "name": "",
  "signature": "sha256:e505bf195e12bc9e4b28de91c1443cdf3f330f416b690f514e54f93ad8dbb6aa"
 },
 "nbformat": 3,
 "nbformat_minor": 0,
 "worksheets": [
  {
   "cells": [
    {
     "cell_type": "code",
     "collapsed": false,
     "input": [
      "from __future__ import print_function, division\n",
      "\n",
      "import thinkdsp\n",
      "import thinkplot\n",
      "import thinkstats2\n",
      "import math\n",
      "import numpy\n",
      "import pandas\n",
      "import scipy.signal\n",
      "\n",
      "PI2 = 2 * math.pi\n",
      "\n",
      "%matplotlib inline"
     ],
     "language": "python",
     "metadata": {},
     "outputs": [],
     "prompt_number": 2
    },
    {
     "cell_type": "code",
     "collapsed": false,
     "input": [
      "def diffsignal(wave):\n",
      "    spectrum = wave.make_spectrum()\n",
      "    factors = PI2*1j*spectrum.fs\n",
      "    spectrum.hs *= factors\n",
      "    diff=spectrum.make_wave()"
     ],
     "language": "python",
     "metadata": {},
     "outputs": []
    }
   ],
   "metadata": {}
  }
 ]
}